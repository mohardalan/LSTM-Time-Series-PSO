{
 "cells": [
  {
   "cell_type": "markdown",
   "metadata": {
    "id": "fw8uPOPDVVuV"
   },
   "source": [
    "# Fine-Tuning the Architecture of LSTM Model"
   ]
  },
  {
   "cell_type": "code",
   "execution_count": null,
   "metadata": {},
   "outputs": [],
   "source": [
    "#!pip install pyswarms"
   ]
  },
  {
   "cell_type": "code",
   "execution_count": 1,
   "metadata": {
    "id": "dIfZl639VpGb"
   },
   "outputs": [],
   "source": [
    "import numpy as np\n",
    "import matplotlib.pyplot as plt\n",
    "import pandas as pd\n",
    "import tensorflow as tf\n",
    "from tensorflow.keras.models import Sequential\n",
    "from tensorflow.keras.layers import Dense\n",
    "from tensorflow.keras.layers import LSTM\n",
    "from sklearn.preprocessing import MinMaxScaler\n",
    "from sklearn.metrics import mean_squared_error\n",
    "import matplotlib.pyplot as plt\n",
    "from pyswarms.single.global_best import GlobalBestPSO\n",
    "tf.random.set_seed(33)"
   ]
  },
  {
   "cell_type": "code",
   "execution_count": 2,
   "metadata": {
    "colab": {
     "base_uri": "https://localhost:8080/",
     "height": 430
    },
    "id": "xmhYUYN6VZ4e",
    "outputId": "da3b5d7b-60a2-4599-8839-5a5b54c41b3c"
   },
   "outputs": [],
   "source": [
    "# Importing data\n",
    "data = pd.read_csv('Data/Electric_Production.csv')\n",
    "\n",
    "# Preprocessing\n",
    "def preprocess_data(data):\n",
    "    df = pd.DataFrame(data['IPG2211A2N'])\n",
    "    df['IPG2211A2N'] = df['IPG2211A2N'].apply(lambda x: float(str(x).replace('?', '')))\n",
    "    return df.astype('float32')\n",
    "dataset = preprocess_data(data)"
   ]
  },
  {
   "cell_type": "code",
   "execution_count": 3,
   "metadata": {
    "id": "q6YqyA2CVzsm"
   },
   "outputs": [],
   "source": [
    "# Preparing data for model\n",
    "dataset = pd.DataFrame(dataset)\n",
    "dataset = dataset.values\n",
    "dataset = dataset.astype('float32')\n",
    "\n",
    "# normalize the dataset with MinMax normalization\n",
    "scaler = MinMaxScaler(feature_range=(0, 1))\n",
    "dataset = scaler.fit_transform(dataset)\n",
    "\n",
    "# split into train and test sets\n",
    "train_size = int(len(dataset) * 0.80)\n",
    "test_size = len(dataset) - train_size\n",
    "\n",
    "train, test = dataset[0:train_size,:], dataset[train_size:len(dataset),:]\n",
    "\n",
    "# convert an array of values into a dataset matrix\n",
    "def create_dataset(dataset, look_back=1):\n",
    "  dataX, dataY = [], []\n",
    "  for i in range(len(dataset)-look_back-1):\n",
    "    dataX.append(dataset[i:(i+look_back), 0])\n",
    "    dataY.append(dataset[i + look_back, 0])\n",
    "  return np.array(dataX), np.array(dataY)"
   ]
  },
  {
   "cell_type": "code",
   "execution_count": 4,
   "metadata": {
    "id": "ajGFqx3JWCqa"
   },
   "outputs": [],
   "source": [
    "# Define the objective function\n",
    "def objective_function(params):\n",
    "    \n",
    "    Costs = np.zeros(params.shape[0])  \n",
    "    for i in range(params.shape[0]):\n",
    "        look_back= int(params[i, 0])\n",
    "        Nunits= int(params[i, 1])\n",
    "        activation= int(params[i, 2])\n",
    "        NLayer= int(params[i, 2])\n",
    "        \n",
    "        if activation < 2:\n",
    "            activation = 'tanh'\n",
    "        else: \n",
    "            activation = 'relu'\n",
    "    \n",
    "    trainX, trainY = create_dataset(train, look_back)\n",
    "    testX, testY = create_dataset(test, look_back)\n",
    "\n",
    "    # reshape input to be [samples, time steps, features]\n",
    "    trainX = np.reshape(trainX, (trainX.shape[0], 1, trainX.shape[1]))\n",
    "    testX = np.reshape(testX, (testX.shape[0], 1, testX.shape[1]))\n",
    "    \n",
    "    # create and fit the LSTM network\n",
    "    model = Sequential()\n",
    "    \n",
    "    for t in range(1,NLayer+1):\n",
    "        if t == 1 and NLayer == 1:\n",
    "            model.add(LSTM(units=Nunits, activation=activation, input_shape=(1, look_back)))\n",
    "        elif t == 1 and NLayer > 1:\n",
    "            model.add(LSTM(units=Nunits, activation=activation, input_shape=(1, look_back), return_sequences=True))\n",
    "        elif t == NLayer:\n",
    "            model.add(LSTM(units=Nunits, activation=activation))\n",
    "        else:\n",
    "            model.add(LSTM(units=Nunits, activation=activation, return_sequences=True)) \n",
    "\n",
    "    model.add(Dense(1))\n",
    "\n",
    "    model.compile(loss='mean_squared_error', optimizer='adam')\n",
    "    model.fit(trainX, trainY, epochs=10, batch_size=1, verbose=2)\n",
    "    \n",
    "    \n",
    "    # make predictions\n",
    "    trainPredict = model.predict(trainX)\n",
    "    # invert predictions\n",
    "    trainPredict = scaler.inverse_transform(trainPredict)\n",
    "    trainY = scaler.inverse_transform([trainY])\n",
    "    # calculate root mean squared error\n",
    "    trainScore = np.sqrt(mean_squared_error(trainY[0], trainPredict[:,0]))\n",
    "    print('Train Score: %.2f RMSE' % (trainScore))\n",
    "    \n",
    "    \n",
    "    # make predictions\n",
    "    testPredict = model.predict(testX)\n",
    "    # invert predictions\n",
    "    testPredict = scaler.inverse_transform(testPredict)\n",
    "    testY = scaler.inverse_transform([testY])\n",
    "    # calculate root mean squared error\n",
    "    testScore = np.sqrt(mean_squared_error(testY[0], testPredict[:,0]))\n",
    "    print('Test Score: %.2f RMSE' % (testScore))\n",
    "    \n",
    "    Cost= (0.1*trainScore + 0.9*testScore)**2\n",
    "    \n",
    "    # Return the validation loss as the objective value\n",
    "    return Cost"
   ]
  },
  {
   "cell_type": "code",
   "execution_count": 5,
   "metadata": {
    "id": "ISglkjpoWrFH"
   },
   "outputs": [],
   "source": [
    "# Define hyperparameters \n",
    "#look_back, #Nunits, #activation, #NLayer\n",
    "lower_bound = np.array([4, 4, 1, 1])\n",
    "upper_bound = np.array([10, 10, 3, 5])\n",
    "bounds = (lower_bound, upper_bound)"
   ]
  },
  {
   "cell_type": "code",
   "execution_count": 6,
   "metadata": {
    "scrolled": true
   },
   "outputs": [
    {
     "name": "stderr",
     "output_type": "stream",
     "text": [
      "2024-02-08 19:54:31,384 - pyswarms.single.global_best - INFO - Optimize for 20 iters with {'c1': 0.5, 'c2': 0.3, 'w': 0.9}\n",
      "pyswarms.single.global_best:   0%|          |0/20"
     ]
    },
    {
     "name": "stdout",
     "output_type": "stream",
     "text": [
      "Epoch 1/10\n",
      "308/308 - 4s - loss: 0.0741 - 4s/epoch - 12ms/step\n",
      "Epoch 2/10\n",
      "308/308 - 0s - loss: 0.0118 - 478ms/epoch - 2ms/step\n",
      "Epoch 3/10\n",
      "308/308 - 1s - loss: 0.0095 - 500ms/epoch - 2ms/step\n",
      "Epoch 4/10\n",
      "308/308 - 0s - loss: 0.0079 - 439ms/epoch - 1ms/step\n",
      "Epoch 5/10\n",
      "308/308 - 0s - loss: 0.0066 - 484ms/epoch - 2ms/step\n",
      "Epoch 6/10\n",
      "308/308 - 0s - loss: 0.0058 - 391ms/epoch - 1ms/step\n",
      "Epoch 7/10\n",
      "308/308 - 0s - loss: 0.0053 - 405ms/epoch - 1ms/step\n",
      "Epoch 8/10\n",
      "308/308 - 0s - loss: 0.0047 - 390ms/epoch - 1ms/step\n",
      "Epoch 9/10\n",
      "308/308 - 0s - loss: 0.0045 - 406ms/epoch - 1ms/step\n",
      "Epoch 10/10\n",
      "308/308 - 0s - loss: 0.0040 - 391ms/epoch - 1ms/step\n",
      "10/10 [==============================] - 0s 703us/step\n",
      "Train Score: 4.77 RMSE\n",
      "3/3 [==============================] - 0s 9ms/step\n"
     ]
    },
    {
     "name": "stderr",
     "output_type": "stream",
     "text": [
      "pyswarms.single.global_best:   5%|▌         |1/20, best_cost=44.8"
     ]
    },
    {
     "name": "stdout",
     "output_type": "stream",
     "text": [
      "Test Score: 6.91 RMSE\n",
      "Epoch 1/10\n",
      "308/308 - 3s - loss: 0.0724 - 3s/epoch - 11ms/step\n",
      "Epoch 2/10\n",
      "308/308 - 0s - loss: 0.0095 - 397ms/epoch - 1ms/step\n",
      "Epoch 3/10\n",
      "308/308 - 0s - loss: 0.0072 - 410ms/epoch - 1ms/step\n",
      "Epoch 4/10\n",
      "308/308 - 1s - loss: 0.0059 - 562ms/epoch - 2ms/step\n",
      "Epoch 5/10\n",
      "308/308 - 0s - loss: 0.0054 - 484ms/epoch - 2ms/step\n",
      "Epoch 6/10\n",
      "308/308 - 0s - loss: 0.0052 - 417ms/epoch - 1ms/step\n",
      "Epoch 7/10\n",
      "308/308 - 0s - loss: 0.0051 - 435ms/epoch - 1ms/step\n",
      "Epoch 8/10\n",
      "308/308 - 0s - loss: 0.0047 - 423ms/epoch - 1ms/step\n",
      "Epoch 9/10\n",
      "308/308 - 0s - loss: 0.0049 - 440ms/epoch - 1ms/step\n",
      "Epoch 10/10\n",
      "308/308 - 0s - loss: 0.0043 - 429ms/epoch - 1ms/step\n",
      "10/10 [==============================] - 0s 2ms/step\n",
      "Train Score: 4.95 RMSE\n",
      "3/3 [==============================] - 0s 2ms/step\n"
     ]
    },
    {
     "name": "stderr",
     "output_type": "stream",
     "text": [
      "pyswarms.single.global_best:  10%|█         |2/20, best_cost=44.8"
     ]
    },
    {
     "name": "stdout",
     "output_type": "stream",
     "text": [
      "Test Score: 6.92 RMSE\n",
      "Epoch 1/10\n",
      "309/309 - 2s - loss: 0.0928 - 2s/epoch - 7ms/step\n",
      "Epoch 2/10\n",
      "309/309 - 1s - loss: 0.0161 - 536ms/epoch - 2ms/step\n",
      "Epoch 3/10\n",
      "309/309 - 0s - loss: 0.0113 - 474ms/epoch - 2ms/step\n",
      "Epoch 4/10\n",
      "309/309 - 1s - loss: 0.0092 - 527ms/epoch - 2ms/step\n",
      "Epoch 5/10\n",
      "309/309 - 0s - loss: 0.0082 - 445ms/epoch - 1ms/step\n",
      "Epoch 6/10\n",
      "309/309 - 1s - loss: 0.0076 - 567ms/epoch - 2ms/step\n",
      "Epoch 7/10\n",
      "309/309 - 0s - loss: 0.0069 - 448ms/epoch - 1ms/step\n",
      "Epoch 8/10\n",
      "309/309 - 1s - loss: 0.0065 - 503ms/epoch - 2ms/step\n",
      "Epoch 9/10\n",
      "309/309 - 1s - loss: 0.0061 - 684ms/epoch - 2ms/step\n",
      "Epoch 10/10\n",
      "309/309 - 1s - loss: 0.0057 - 979ms/epoch - 3ms/step\n",
      "10/10 [==============================] - 1s 4ms/step\n",
      "Train Score: 5.49 RMSE\n",
      "3/3 [==============================] - 0s 4ms/step\n"
     ]
    },
    {
     "name": "stderr",
     "output_type": "stream",
     "text": [
      "\r",
      "pyswarms.single.global_best:  10%|█         |2/20, best_cost=41  "
     ]
    },
    {
     "name": "stdout",
     "output_type": "stream",
     "text": [
      "Test Score: 6.51 RMSE\n"
     ]
    },
    {
     "name": "stderr",
     "output_type": "stream",
     "text": [
      "\r",
      "pyswarms.single.global_best:  15%|█▌        |3/20, best_cost=41"
     ]
    },
    {
     "name": "stdout",
     "output_type": "stream",
     "text": [
      "Epoch 1/10\n",
      "310/310 - 4s - loss: 0.0715 - 4s/epoch - 13ms/step\n",
      "Epoch 2/10\n",
      "310/310 - 0s - loss: 0.0156 - 467ms/epoch - 2ms/step\n",
      "Epoch 3/10\n",
      "310/310 - 0s - loss: 0.0123 - 447ms/epoch - 1ms/step\n",
      "Epoch 4/10\n",
      "310/310 - 0s - loss: 0.0103 - 486ms/epoch - 2ms/step\n",
      "Epoch 5/10\n",
      "310/310 - 0s - loss: 0.0085 - 412ms/epoch - 1ms/step\n",
      "Epoch 6/10\n",
      "310/310 - 0s - loss: 0.0073 - 416ms/epoch - 1ms/step\n",
      "Epoch 7/10\n",
      "310/310 - 0s - loss: 0.0063 - 404ms/epoch - 1ms/step\n",
      "Epoch 8/10\n",
      "310/310 - 0s - loss: 0.0058 - 493ms/epoch - 2ms/step\n",
      "Epoch 9/10\n",
      "310/310 - 0s - loss: 0.0055 - 452ms/epoch - 1ms/step\n",
      "Epoch 10/10\n",
      "310/310 - 0s - loss: 0.0052 - 497ms/epoch - 2ms/step\n",
      "10/10 [==============================] - 0s 2ms/step\n",
      "Train Score: 5.11 RMSE\n",
      "3/3 [==============================] - 0s 0s/step\n"
     ]
    },
    {
     "name": "stderr",
     "output_type": "stream",
     "text": [
      "pyswarms.single.global_best:  20%|██        |4/20, best_cost=36.5"
     ]
    },
    {
     "name": "stdout",
     "output_type": "stream",
     "text": [
      "Test Score: 6.14 RMSE\n",
      "Epoch 1/10\n",
      "312/312 - 2s - loss: 0.0611 - 2s/epoch - 7ms/step\n",
      "Epoch 2/10\n",
      "312/312 - 0s - loss: 0.0174 - 484ms/epoch - 2ms/step\n",
      "Epoch 3/10\n",
      "312/312 - 1s - loss: 0.0133 - 501ms/epoch - 2ms/step\n",
      "Epoch 4/10\n",
      "312/312 - 0s - loss: 0.0098 - 496ms/epoch - 2ms/step\n",
      "Epoch 5/10\n",
      "312/312 - 0s - loss: 0.0073 - 384ms/epoch - 1ms/step\n",
      "Epoch 6/10\n",
      "312/312 - 1s - loss: 0.0060 - 1s/epoch - 3ms/step\n",
      "Epoch 7/10\n",
      "312/312 - 1s - loss: 0.0058 - 954ms/epoch - 3ms/step\n",
      "Epoch 8/10\n",
      "312/312 - 1s - loss: 0.0054 - 954ms/epoch - 3ms/step\n",
      "Epoch 9/10\n",
      "312/312 - 1s - loss: 0.0054 - 965ms/epoch - 3ms/step\n",
      "Epoch 10/10\n",
      "312/312 - 1s - loss: 0.0051 - 928ms/epoch - 3ms/step\n",
      "10/10 [==============================] - 1s 3ms/step\n",
      "Train Score: 4.97 RMSE\n",
      "3/3 [==============================] - 0s 6ms/step\n"
     ]
    },
    {
     "name": "stderr",
     "output_type": "stream",
     "text": [
      "pyswarms.single.global_best:  25%|██▌       |5/20, best_cost=35.6"
     ]
    },
    {
     "name": "stdout",
     "output_type": "stream",
     "text": [
      "Test Score: 6.07 RMSE\n",
      "Epoch 1/10\n",
      "307/307 - 2s - loss: 0.0206 - 2s/epoch - 6ms/step\n",
      "Epoch 2/10\n",
      "307/307 - 0s - loss: 0.0089 - 334ms/epoch - 1ms/step\n",
      "Epoch 3/10\n",
      "307/307 - 0s - loss: 0.0064 - 350ms/epoch - 1ms/step\n",
      "Epoch 4/10\n",
      "307/307 - 0s - loss: 0.0054 - 339ms/epoch - 1ms/step\n",
      "Epoch 5/10\n",
      "307/307 - 0s - loss: 0.0049 - 332ms/epoch - 1ms/step\n",
      "Epoch 6/10\n",
      "307/307 - 0s - loss: 0.0048 - 374ms/epoch - 1ms/step\n",
      "Epoch 7/10\n",
      "307/307 - 0s - loss: 0.0045 - 402ms/epoch - 1ms/step\n",
      "Epoch 8/10\n",
      "307/307 - 0s - loss: 0.0042 - 374ms/epoch - 1ms/step\n",
      "Epoch 9/10\n",
      "307/307 - 0s - loss: 0.0041 - 320ms/epoch - 1ms/step\n",
      "Epoch 10/10\n",
      "307/307 - 0s - loss: 0.0039 - 397ms/epoch - 1ms/step\n",
      "10/10 [==============================] - 0s 2ms/step\n",
      "Train Score: 4.74 RMSE\n",
      "3/3 [==============================] - 0s 0s/step\n"
     ]
    },
    {
     "name": "stderr",
     "output_type": "stream",
     "text": [
      "pyswarms.single.global_best:  30%|███       |6/20, best_cost=28.2"
     ]
    },
    {
     "name": "stdout",
     "output_type": "stream",
     "text": [
      "Test Score: 5.38 RMSE\n",
      "Epoch 1/10\n",
      "309/309 - 2s - loss: 0.0386 - 2s/epoch - 7ms/step\n",
      "Epoch 2/10\n",
      "309/309 - 0s - loss: 0.0124 - 402ms/epoch - 1ms/step\n",
      "Epoch 3/10\n",
      "309/309 - 0s - loss: 0.0096 - 416ms/epoch - 1ms/step\n",
      "Epoch 4/10\n",
      "309/309 - 0s - loss: 0.0076 - 401ms/epoch - 1ms/step\n",
      "Epoch 5/10\n",
      "309/309 - 0s - loss: 0.0061 - 323ms/epoch - 1ms/step\n",
      "Epoch 6/10\n",
      "309/309 - 1s - loss: 0.0051 - 615ms/epoch - 2ms/step\n",
      "Epoch 7/10\n",
      "309/309 - 1s - loss: 0.0043 - 887ms/epoch - 3ms/step\n",
      "Epoch 8/10\n",
      "309/309 - 1s - loss: 0.0040 - 862ms/epoch - 3ms/step\n",
      "Epoch 9/10\n",
      "309/309 - 1s - loss: 0.0037 - 870ms/epoch - 3ms/step\n",
      "Epoch 10/10\n",
      "309/309 - 1s - loss: 0.0035 - 870ms/epoch - 3ms/step\n",
      "10/10 [==============================] - 1s 4ms/step\n",
      "Train Score: 4.31 RMSE\n",
      "3/3 [==============================] - 0s 10ms/step\n"
     ]
    },
    {
     "name": "stderr",
     "output_type": "stream",
     "text": [
      "\r",
      "pyswarms.single.global_best:  30%|███       |6/20, best_cost=23.6"
     ]
    },
    {
     "name": "stdout",
     "output_type": "stream",
     "text": [
      "Test Score: 4.91 RMSE\n"
     ]
    },
    {
     "name": "stderr",
     "output_type": "stream",
     "text": [
      "\r",
      "pyswarms.single.global_best:  35%|███▌      |7/20, best_cost=23.6"
     ]
    },
    {
     "name": "stdout",
     "output_type": "stream",
     "text": [
      "Epoch 1/10\n",
      "312/312 - 2s - loss: 0.0775 - 2s/epoch - 6ms/step\n",
      "Epoch 2/10\n",
      "312/312 - 0s - loss: 0.0218 - 335ms/epoch - 1ms/step\n",
      "Epoch 3/10\n",
      "312/312 - 0s - loss: 0.0185 - 323ms/epoch - 1ms/step\n",
      "Epoch 4/10\n",
      "312/312 - 0s - loss: 0.0158 - 332ms/epoch - 1ms/step\n",
      "Epoch 5/10\n",
      "312/312 - 0s - loss: 0.0131 - 321ms/epoch - 1ms/step\n",
      "Epoch 6/10\n",
      "312/312 - 0s - loss: 0.0110 - 326ms/epoch - 1ms/step\n",
      "Epoch 7/10\n",
      "312/312 - 0s - loss: 0.0089 - 322ms/epoch - 1ms/step\n",
      "Epoch 8/10\n",
      "312/312 - 0s - loss: 0.0075 - 327ms/epoch - 1ms/step\n",
      "Epoch 9/10\n",
      "312/312 - 0s - loss: 0.0063 - 338ms/epoch - 1ms/step\n",
      "Epoch 10/10\n",
      "312/312 - 0s - loss: 0.0053 - 328ms/epoch - 1ms/step\n",
      "10/10 [==============================] - 0s 3ms/step\n",
      "Train Score: 5.24 RMSE\n",
      "3/3 [==============================] - 0s 2ms/step\n"
     ]
    },
    {
     "name": "stderr",
     "output_type": "stream",
     "text": [
      "pyswarms.single.global_best:  40%|████      |8/20, best_cost=23.6"
     ]
    },
    {
     "name": "stdout",
     "output_type": "stream",
     "text": [
      "Test Score: 6.05 RMSE\n",
      "Epoch 1/10\n",
      "307/307 - 2s - loss: 0.0134 - 2s/epoch - 6ms/step\n",
      "Epoch 2/10\n",
      "307/307 - 0s - loss: 0.0066 - 421ms/epoch - 1ms/step\n",
      "Epoch 3/10\n",
      "307/307 - 0s - loss: 0.0044 - 416ms/epoch - 1ms/step\n",
      "Epoch 4/10\n",
      "307/307 - 0s - loss: 0.0037 - 400ms/epoch - 1ms/step\n",
      "Epoch 5/10\n",
      "307/307 - 0s - loss: 0.0035 - 401ms/epoch - 1ms/step\n",
      "Epoch 6/10\n",
      "307/307 - 0s - loss: 0.0037 - 401ms/epoch - 1ms/step\n",
      "Epoch 7/10\n",
      "307/307 - 0s - loss: 0.0035 - 431ms/epoch - 1ms/step\n",
      "Epoch 8/10\n",
      "307/307 - 0s - loss: 0.0034 - 354ms/epoch - 1ms/step\n",
      "Epoch 9/10\n",
      "307/307 - 0s - loss: 0.0034 - 332ms/epoch - 1ms/step\n",
      "Epoch 10/10\n",
      "307/307 - 0s - loss: 0.0032 - 406ms/epoch - 1ms/step\n",
      "10/10 [==============================] - 0s 2ms/step\n",
      "Train Score: 4.18 RMSE\n",
      "3/3 [==============================] - 0s 2ms/step\n"
     ]
    },
    {
     "name": "stderr",
     "output_type": "stream",
     "text": [
      "pyswarms.single.global_best:  45%|████▌     |9/20, best_cost=22.7"
     ]
    },
    {
     "name": "stdout",
     "output_type": "stream",
     "text": [
      "Test Score: 4.83 RMSE\n",
      "Epoch 1/10\n",
      "309/309 - 4s - loss: 0.0376 - 4s/epoch - 13ms/step\n",
      "Epoch 2/10\n",
      "309/309 - 1s - loss: 0.0092 - 819ms/epoch - 3ms/step\n",
      "Epoch 3/10\n",
      "309/309 - 0s - loss: 0.0071 - 331ms/epoch - 1ms/step\n",
      "Epoch 4/10\n",
      "309/309 - 0s - loss: 0.0059 - 318ms/epoch - 1ms/step\n",
      "Epoch 5/10\n",
      "309/309 - 0s - loss: 0.0052 - 329ms/epoch - 1ms/step\n",
      "Epoch 6/10\n",
      "309/309 - 0s - loss: 0.0047 - 323ms/epoch - 1ms/step\n",
      "Epoch 7/10\n",
      "309/309 - 0s - loss: 0.0044 - 332ms/epoch - 1ms/step\n",
      "Epoch 8/10\n",
      "309/309 - 0s - loss: 0.0043 - 313ms/epoch - 1ms/step\n",
      "Epoch 9/10\n",
      "309/309 - 0s - loss: 0.0042 - 335ms/epoch - 1ms/step\n",
      "Epoch 10/10\n",
      "309/309 - 0s - loss: 0.0039 - 323ms/epoch - 1ms/step\n",
      "10/10 [==============================] - 0s 3ms/step\n",
      "Train Score: 4.54 RMSE\n",
      "3/3 [==============================] - 0s 2ms/step\n"
     ]
    },
    {
     "name": "stderr",
     "output_type": "stream",
     "text": [
      "pyswarms.single.global_best:  50%|█████     |10/20, best_cost=22.7"
     ]
    },
    {
     "name": "stdout",
     "output_type": "stream",
     "text": [
      "Test Score: 5.18 RMSE\n",
      "Epoch 1/10\n",
      "311/311 - 2s - loss: 0.0359 - 2s/epoch - 5ms/step\n",
      "Epoch 2/10\n",
      "311/311 - 0s - loss: 0.0094 - 317ms/epoch - 1ms/step\n",
      "Epoch 3/10\n",
      "311/311 - 0s - loss: 0.0071 - 374ms/epoch - 1ms/step\n",
      "Epoch 4/10\n",
      "311/311 - 0s - loss: 0.0053 - 426ms/epoch - 1ms/step\n",
      "Epoch 5/10\n",
      "311/311 - 0s - loss: 0.0042 - 407ms/epoch - 1ms/step\n",
      "Epoch 6/10\n",
      "311/311 - 0s - loss: 0.0037 - 447ms/epoch - 1ms/step\n",
      "Epoch 7/10\n",
      "311/311 - 0s - loss: 0.0032 - 434ms/epoch - 1ms/step\n",
      "Epoch 8/10\n",
      "311/311 - 0s - loss: 0.0034 - 438ms/epoch - 1ms/step\n",
      "Epoch 9/10\n",
      "311/311 - 0s - loss: 0.0031 - 417ms/epoch - 1ms/step\n",
      "Epoch 10/10\n",
      "311/311 - 0s - loss: 0.0030 - 411ms/epoch - 1ms/step\n",
      "10/10 [==============================] - 0s 3ms/step\n",
      "Train Score: 3.99 RMSE\n",
      "3/3 [==============================] - 0s 5ms/step\n"
     ]
    },
    {
     "name": "stderr",
     "output_type": "stream",
     "text": [
      "pyswarms.single.global_best:  55%|█████▌    |11/20, best_cost=21.3"
     ]
    },
    {
     "name": "stdout",
     "output_type": "stream",
     "text": [
      "Test Score: 4.69 RMSE\n",
      "Epoch 1/10\n",
      "312/312 - 3s - loss: 0.0601 - 3s/epoch - 10ms/step\n",
      "Epoch 2/10\n",
      "312/312 - 1s - loss: 0.0165 - 870ms/epoch - 3ms/step\n",
      "Epoch 3/10\n",
      "312/312 - 1s - loss: 0.0142 - 879ms/epoch - 3ms/step\n",
      "Epoch 4/10\n",
      "312/312 - 1s - loss: 0.0126 - 870ms/epoch - 3ms/step\n",
      "Epoch 5/10\n",
      "312/312 - 1s - loss: 0.0110 - 870ms/epoch - 3ms/step\n",
      "Epoch 6/10\n",
      "312/312 - 1s - loss: 0.0100 - 870ms/epoch - 3ms/step\n",
      "Epoch 7/10\n",
      "312/312 - 1s - loss: 0.0086 - 503ms/epoch - 2ms/step\n",
      "Epoch 8/10\n",
      "312/312 - 0s - loss: 0.0076 - 326ms/epoch - 1ms/step\n",
      "Epoch 9/10\n",
      "312/312 - 0s - loss: 0.0066 - 329ms/epoch - 1ms/step\n",
      "Epoch 10/10\n",
      "312/312 - 0s - loss: 0.0056 - 318ms/epoch - 1ms/step\n",
      "10/10 [==============================] - 0s 763us/step\n",
      "Train Score: 5.38 RMSE\n",
      "3/3 [==============================] - 0s 2ms/step\n"
     ]
    },
    {
     "name": "stderr",
     "output_type": "stream",
     "text": [
      "pyswarms.single.global_best:  60%|██████    |12/20, best_cost=21.3"
     ]
    },
    {
     "name": "stdout",
     "output_type": "stream",
     "text": [
      "Test Score: 6.16 RMSE\n",
      "Epoch 1/10\n",
      "307/307 - 2s - loss: 0.0460 - 2s/epoch - 5ms/step\n",
      "Epoch 2/10\n",
      "307/307 - 0s - loss: 0.0138 - 332ms/epoch - 1ms/step\n",
      "Epoch 3/10\n",
      "307/307 - 0s - loss: 0.0095 - 315ms/epoch - 1ms/step\n",
      "Epoch 4/10\n",
      "307/307 - 0s - loss: 0.0068 - 347ms/epoch - 1ms/step\n",
      "Epoch 5/10\n",
      "307/307 - 0s - loss: 0.0052 - 416ms/epoch - 1ms/step\n",
      "Epoch 6/10\n",
      "307/307 - 0s - loss: 0.0045 - 401ms/epoch - 1ms/step\n",
      "Epoch 7/10\n",
      "307/307 - 0s - loss: 0.0042 - 417ms/epoch - 1ms/step\n",
      "Epoch 8/10\n",
      "307/307 - 0s - loss: 0.0039 - 417ms/epoch - 1ms/step\n",
      "Epoch 9/10\n",
      "307/307 - 0s - loss: 0.0038 - 406ms/epoch - 1ms/step\n",
      "Epoch 10/10\n",
      "307/307 - 0s - loss: 0.0037 - 401ms/epoch - 1ms/step\n",
      "10/10 [==============================] - 0s 1ms/step\n",
      "Train Score: 4.45 RMSE\n",
      "3/3 [==============================] - 0s 2ms/step\n"
     ]
    },
    {
     "name": "stderr",
     "output_type": "stream",
     "text": [
      "pyswarms.single.global_best:  65%|██████▌   |13/20, best_cost=21.3"
     ]
    },
    {
     "name": "stdout",
     "output_type": "stream",
     "text": [
      "Test Score: 4.97 RMSE\n",
      "Epoch 1/10\n",
      "309/309 - 2s - loss: 0.0323 - 2s/epoch - 6ms/step\n",
      "Epoch 2/10\n",
      "309/309 - 0s - loss: 0.0088 - 494ms/epoch - 2ms/step\n",
      "Epoch 3/10\n",
      "309/309 - 1s - loss: 0.0063 - 884ms/epoch - 3ms/step\n",
      "Epoch 4/10\n",
      "309/309 - 1s - loss: 0.0049 - 850ms/epoch - 3ms/step\n",
      "Epoch 5/10\n",
      "309/309 - 1s - loss: 0.0042 - 855ms/epoch - 3ms/step\n",
      "Epoch 6/10\n",
      "309/309 - 1s - loss: 0.0037 - 854ms/epoch - 3ms/step\n",
      "Epoch 7/10\n",
      "309/309 - 1s - loss: 0.0035 - 846ms/epoch - 3ms/step\n",
      "Epoch 8/10\n",
      "309/309 - 1s - loss: 0.0035 - 859ms/epoch - 3ms/step\n",
      "Epoch 9/10\n",
      "309/309 - 1s - loss: 0.0034 - 797ms/epoch - 3ms/step\n",
      "Epoch 10/10\n",
      "309/309 - 0s - loss: 0.0032 - 321ms/epoch - 1ms/step\n",
      "10/10 [==============================] - 0s 1ms/step\n",
      "Train Score: 4.08 RMSE\n",
      "3/3 [==============================] - 0s 2ms/step\n"
     ]
    },
    {
     "name": "stderr",
     "output_type": "stream",
     "text": [
      "pyswarms.single.global_best:  70%|███████   |14/20, best_cost=21.3"
     ]
    },
    {
     "name": "stdout",
     "output_type": "stream",
     "text": [
      "Test Score: 4.76 RMSE\n",
      "Epoch 1/10\n",
      "311/311 - 2s - loss: 0.0840 - 2s/epoch - 5ms/step\n",
      "Epoch 2/10\n",
      "311/311 - 0s - loss: 0.0150 - 326ms/epoch - 1ms/step\n",
      "Epoch 3/10\n",
      "311/311 - 0s - loss: 0.0113 - 323ms/epoch - 1ms/step\n",
      "Epoch 4/10\n",
      "311/311 - 0s - loss: 0.0082 - 320ms/epoch - 1ms/step\n",
      "Epoch 5/10\n",
      "311/311 - 0s - loss: 0.0059 - 329ms/epoch - 1ms/step\n",
      "Epoch 6/10\n",
      "311/311 - 0s - loss: 0.0044 - 311ms/epoch - 1ms/step\n",
      "Epoch 7/10\n",
      "311/311 - 0s - loss: 0.0035 - 343ms/epoch - 1ms/step\n",
      "Epoch 8/10\n",
      "311/311 - 0s - loss: 0.0034 - 416ms/epoch - 1ms/step\n",
      "Epoch 9/10\n",
      "311/311 - 0s - loss: 0.0030 - 398ms/epoch - 1ms/step\n",
      "Epoch 10/10\n",
      "311/311 - 0s - loss: 0.0030 - 404ms/epoch - 1ms/step\n",
      "10/10 [==============================] - 0s 3ms/step\n",
      "Train Score: 3.96 RMSE\n",
      "3/3 [==============================] - 0s 2ms/step\n"
     ]
    },
    {
     "name": "stderr",
     "output_type": "stream",
     "text": [
      "pyswarms.single.global_best:  75%|███████▌  |15/20, best_cost=21  "
     ]
    },
    {
     "name": "stdout",
     "output_type": "stream",
     "text": [
      "Test Score: 4.65 RMSE\n",
      "Epoch 1/10\n",
      "308/308 - 2s - loss: 0.0377 - 2s/epoch - 6ms/step\n",
      "Epoch 2/10\n",
      "308/308 - 0s - loss: 0.0148 - 364ms/epoch - 1ms/step\n",
      "Epoch 3/10\n",
      "308/308 - 1s - loss: 0.0124 - 686ms/epoch - 2ms/step\n",
      "Epoch 4/10\n",
      "308/308 - 1s - loss: 0.0104 - 528ms/epoch - 2ms/step\n",
      "Epoch 5/10\n",
      "308/308 - 1s - loss: 0.0085 - 880ms/epoch - 3ms/step\n",
      "Epoch 6/10\n",
      "308/308 - 1s - loss: 0.0072 - 837ms/epoch - 3ms/step\n",
      "Epoch 7/10\n",
      "308/308 - 1s - loss: 0.0059 - 871ms/epoch - 3ms/step\n",
      "Epoch 8/10\n",
      "308/308 - 1s - loss: 0.0051 - 853ms/epoch - 3ms/step\n",
      "Epoch 9/10\n",
      "308/308 - 1s - loss: 0.0046 - 849ms/epoch - 3ms/step\n",
      "Epoch 10/10\n",
      "308/308 - 1s - loss: 0.0041 - 861ms/epoch - 3ms/step\n",
      "10/10 [==============================] - 1s 3ms/step\n",
      "Train Score: 4.66 RMSE\n",
      "3/3 [==============================] - 0s 2ms/step\n"
     ]
    },
    {
     "name": "stderr",
     "output_type": "stream",
     "text": [
      "pyswarms.single.global_best:  80%|████████  |16/20, best_cost=21"
     ]
    },
    {
     "name": "stdout",
     "output_type": "stream",
     "text": [
      "Test Score: 5.33 RMSE\n",
      "Epoch 1/10\n",
      "311/311 - 2s - loss: 0.0703 - 2s/epoch - 5ms/step\n",
      "Epoch 2/10\n",
      "311/311 - 0s - loss: 0.0140 - 331ms/epoch - 1ms/step\n",
      "Epoch 3/10\n",
      "311/311 - 0s - loss: 0.0110 - 323ms/epoch - 1ms/step\n",
      "Epoch 4/10\n",
      "311/311 - 0s - loss: 0.0085 - 324ms/epoch - 1ms/step\n",
      "Epoch 5/10\n",
      "311/311 - 0s - loss: 0.0065 - 340ms/epoch - 1ms/step\n",
      "Epoch 6/10\n",
      "311/311 - 0s - loss: 0.0051 - 316ms/epoch - 1ms/step\n",
      "Epoch 7/10\n",
      "311/311 - 0s - loss: 0.0041 - 323ms/epoch - 1ms/step\n",
      "Epoch 8/10\n",
      "311/311 - 0s - loss: 0.0039 - 349ms/epoch - 1ms/step\n",
      "Epoch 9/10\n",
      "311/311 - 0s - loss: 0.0035 - 329ms/epoch - 1ms/step\n",
      "Epoch 10/10\n",
      "311/311 - 0s - loss: 0.0033 - 406ms/epoch - 1ms/step\n",
      "10/10 [==============================] - 0s 2ms/step\n",
      "Train Score: 4.19 RMSE\n",
      "3/3 [==============================] - 0s 2ms/step\n"
     ]
    },
    {
     "name": "stderr",
     "output_type": "stream",
     "text": [
      "pyswarms.single.global_best:  85%|████████▌ |17/20, best_cost=21"
     ]
    },
    {
     "name": "stdout",
     "output_type": "stream",
     "text": [
      "Test Score: 4.87 RMSE\n",
      "Epoch 1/10\n",
      "308/308 - 2s - loss: 0.0657 - 2s/epoch - 6ms/step\n",
      "Epoch 2/10\n",
      "308/308 - 0s - loss: 0.0107 - 402ms/epoch - 1ms/step\n",
      "Epoch 3/10\n",
      "308/308 - 0s - loss: 0.0083 - 432ms/epoch - 1ms/step\n",
      "Epoch 4/10\n",
      "308/308 - 0s - loss: 0.0064 - 410ms/epoch - 1ms/step\n",
      "Epoch 5/10\n",
      "308/308 - 0s - loss: 0.0051 - 361ms/epoch - 1ms/step\n",
      "Epoch 6/10\n",
      "308/308 - 0s - loss: 0.0044 - 437ms/epoch - 1ms/step\n",
      "Epoch 7/10\n",
      "308/308 - 1s - loss: 0.0039 - 782ms/epoch - 3ms/step\n",
      "Epoch 8/10\n",
      "308/308 - 1s - loss: 0.0037 - 868ms/epoch - 3ms/step\n",
      "Epoch 9/10\n",
      "308/308 - 1s - loss: 0.0038 - 886ms/epoch - 3ms/step\n",
      "Epoch 10/10\n",
      "308/308 - 1s - loss: 0.0035 - 917ms/epoch - 3ms/step\n",
      "10/10 [==============================] - 1s 3ms/step\n",
      "Train Score: 4.46 RMSE\n",
      "3/3 [==============================] - 0s 8ms/step\n"
     ]
    },
    {
     "name": "stderr",
     "output_type": "stream",
     "text": [
      "pyswarms.single.global_best:  90%|█████████ |18/20, best_cost=21"
     ]
    },
    {
     "name": "stdout",
     "output_type": "stream",
     "text": [
      "Test Score: 5.48 RMSE\n",
      "Epoch 1/10\n",
      "312/312 - 2s - loss: 0.0493 - 2s/epoch - 8ms/step\n",
      "Epoch 2/10\n",
      "312/312 - 0s - loss: 0.0158 - 347ms/epoch - 1ms/step\n",
      "Epoch 3/10\n",
      "312/312 - 0s - loss: 0.0128 - 331ms/epoch - 1ms/step\n",
      "Epoch 4/10\n",
      "312/312 - 0s - loss: 0.0110 - 343ms/epoch - 1ms/step\n",
      "Epoch 5/10\n",
      "312/312 - 0s - loss: 0.0092 - 357ms/epoch - 1ms/step\n",
      "Epoch 6/10\n",
      "312/312 - 0s - loss: 0.0078 - 366ms/epoch - 1ms/step\n",
      "Epoch 7/10\n",
      "312/312 - 0s - loss: 0.0063 - 363ms/epoch - 1ms/step\n",
      "Epoch 8/10\n",
      "312/312 - 0s - loss: 0.0052 - 360ms/epoch - 1ms/step\n",
      "Epoch 9/10\n",
      "312/312 - 0s - loss: 0.0045 - 389ms/epoch - 1ms/step\n",
      "Epoch 10/10\n",
      "312/312 - 0s - loss: 0.0040 - 364ms/epoch - 1ms/step\n",
      "10/10 [==============================] - 0s 3ms/step\n",
      "Train Score: 4.53 RMSE\n",
      "3/3 [==============================] - 0s 7ms/step\n"
     ]
    },
    {
     "name": "stderr",
     "output_type": "stream",
     "text": [
      "pyswarms.single.global_best:  95%|█████████▌|19/20, best_cost=21"
     ]
    },
    {
     "name": "stdout",
     "output_type": "stream",
     "text": [
      "Test Score: 5.13 RMSE\n",
      "Epoch 1/10\n",
      "310/310 - 2s - loss: 0.0341 - 2s/epoch - 7ms/step\n",
      "Epoch 2/10\n",
      "310/310 - 1s - loss: 0.0135 - 537ms/epoch - 2ms/step\n",
      "Epoch 3/10\n",
      "310/310 - 1s - loss: 0.0107 - 538ms/epoch - 2ms/step\n",
      "Epoch 4/10\n",
      "310/310 - 1s - loss: 0.0086 - 515ms/epoch - 2ms/step\n",
      "Epoch 5/10\n",
      "310/310 - 1s - loss: 0.0069 - 550ms/epoch - 2ms/step\n",
      "Epoch 6/10\n",
      "310/310 - 0s - loss: 0.0056 - 476ms/epoch - 2ms/step\n",
      "Epoch 7/10\n",
      "310/310 - 0s - loss: 0.0046 - 448ms/epoch - 1ms/step\n",
      "Epoch 8/10\n",
      "310/310 - 1s - loss: 0.0040 - 542ms/epoch - 2ms/step\n",
      "Epoch 9/10\n",
      "310/310 - 1s - loss: 0.0036 - 898ms/epoch - 3ms/step\n",
      "Epoch 10/10\n",
      "310/310 - 1s - loss: 0.0035 - 890ms/epoch - 3ms/step\n",
      "10/10 [==============================] - 1s 3ms/step\n",
      "Train Score: 4.20 RMSE\n",
      "3/3 [==============================] - 0s 2ms/step\n"
     ]
    },
    {
     "name": "stderr",
     "output_type": "stream",
     "text": [
      "\r",
      "pyswarms.single.global_best:  95%|█████████▌|19/20, best_cost=21"
     ]
    },
    {
     "name": "stdout",
     "output_type": "stream",
     "text": [
      "Test Score: 4.82 RMSE\n"
     ]
    },
    {
     "name": "stderr",
     "output_type": "stream",
     "text": [
      "pyswarms.single.global_best: 100%|██████████|20/20, best_cost=21\n",
      "2024-02-08 19:57:06,065 - pyswarms.single.global_best - INFO - Optimization finished | best cost: 21.00822475698634, best pos: [5.30533809 7.42718137 1.3247798  4.23337242]\n"
     ]
    },
    {
     "name": "stdout",
     "output_type": "stream",
     "text": [
      "Best position: [5.30533809 7.42718137 1.3247798  4.23337242]\n",
      "Best cost: 21.00822475698634\n"
     ]
    }
   ],
   "source": [
    "# Initialize the optimizer\n",
    "options={'c1': 0.5, 'c2': 0.3, 'w': 0.9}\n",
    "optimizer = GlobalBestPSO(n_particles= 6, dimensions= 4, options=options, bounds=bounds)\n",
    "\n",
    "# Run the optimization\n",
    "best_costs, best_hyperparams = optimizer.optimize(objective_function, iters= 20)\n",
    "\n",
    "# Print the best hyperparameters found\n",
    "print(\"Best position:\", best_hyperparams)\n",
    "print(\"Best cost:\", best_costs)"
   ]
  },
  {
   "cell_type": "code",
   "execution_count": 7,
   "metadata": {},
   "outputs": [
    {
     "data": {
      "text/plain": [
       "(5, 7, 'tanh', 4)"
      ]
     },
     "execution_count": 7,
     "metadata": {},
     "output_type": "execute_result"
    }
   ],
   "source": [
    "look_back= int(best_hyperparams[0])\n",
    "Nunits= int(best_hyperparams[1])\n",
    "activation= int(best_hyperparams[2])\n",
    "if activation ==1:\n",
    "    activation = 'tanh'\n",
    "else:\n",
    "    activation = 'relu'\n",
    "NLayer= int(best_hyperparams[3])\n",
    "\n",
    "# The optimal parameters for fine-tuning the model\n",
    "look_back, Nunits, activation, NLayer"
   ]
  },
  {
   "cell_type": "code",
   "execution_count": 8,
   "metadata": {},
   "outputs": [
    {
     "name": "stdout",
     "output_type": "stream",
     "text": [
      "Epoch 1/10\n",
      "311/311 - 6s - loss: 0.0660 - 6s/epoch - 18ms/step\n",
      "Epoch 2/10\n",
      "311/311 - 1s - loss: 0.0207 - 921ms/epoch - 3ms/step\n",
      "Epoch 3/10\n",
      "311/311 - 1s - loss: 0.0142 - 835ms/epoch - 3ms/step\n",
      "Epoch 4/10\n",
      "311/311 - 1s - loss: 0.0115 - 886ms/epoch - 3ms/step\n",
      "Epoch 5/10\n",
      "311/311 - 1s - loss: 0.0100 - 1s/epoch - 4ms/step\n",
      "Epoch 6/10\n",
      "311/311 - 2s - loss: 0.0089 - 2s/epoch - 6ms/step\n",
      "Epoch 7/10\n",
      "311/311 - 2s - loss: 0.0075 - 2s/epoch - 6ms/step\n",
      "Epoch 8/10\n",
      "311/311 - 2s - loss: 0.0062 - 2s/epoch - 6ms/step\n",
      "Epoch 9/10\n",
      "311/311 - 1s - loss: 0.0048 - 750ms/epoch - 2ms/step\n",
      "Epoch 10/10\n",
      "311/311 - 1s - loss: 0.0039 - 716ms/epoch - 2ms/step\n"
     ]
    },
    {
     "data": {
      "text/plain": [
       "<keras.src.callbacks.History at 0x1bbb08eab30>"
      ]
     },
     "execution_count": 8,
     "metadata": {},
     "output_type": "execute_result"
    }
   ],
   "source": [
    "# Creating and training a model with the optimal parameters\n",
    "\n",
    "trainX, trainY = create_dataset(train, look_back)\n",
    "testX, testY = create_dataset(test, look_back)\n",
    "\n",
    "# reshape input to be [samples, time steps, features]\n",
    "trainX = np.reshape(trainX, (trainX.shape[0], 1, trainX.shape[1]))\n",
    "testX = np.reshape(testX, (testX.shape[0], 1, testX.shape[1]))\n",
    "\n",
    "# create and fit the LSTM network\n",
    "model = Sequential()\n",
    "    \n",
    "for t in range(1,NLayer+1):\n",
    "    if t == 1 and NLayer == 1:\n",
    "        model.add(LSTM(units=Nunits, activation=activation, input_shape=(1, look_back)))\n",
    "    elif t == 1 and NLayer > 1:\n",
    "        model.add(LSTM(units=Nunits, activation=activation, input_shape=(1, look_back), return_sequences=True))\n",
    "    elif t == NLayer:\n",
    "        model.add(LSTM(units=Nunits, activation=activation))\n",
    "    else:\n",
    "        model.add(LSTM(units=Nunits, activation=activation, return_sequences=True)) \n",
    "\n",
    "model.add(Dense(1))\n",
    "\n",
    "model.compile(loss='mean_squared_error', optimizer='adam')\n",
    "model.fit(trainX, trainY, epochs=10, batch_size=1, verbose=2)"
   ]
  },
  {
   "cell_type": "code",
   "execution_count": 9,
   "metadata": {
    "colab": {
     "base_uri": "https://localhost:8080/"
    },
    "id": "msgCunQDW1uH",
    "outputId": "b9831c7a-fed5-4cbf-d54a-fbc95164e5da",
    "scrolled": true
   },
   "outputs": [
    {
     "name": "stdout",
     "output_type": "stream",
     "text": [
      "10/10 [==============================] - 1s 3ms/step\n",
      "3/3 [==============================] - 0s 3ms/step\n",
      "Train Score: 4.32 RMSE\n",
      "Test Score: 4.72 RMSE\n"
     ]
    }
   ],
   "source": [
    "# make predictions\n",
    "trainPredict = model.predict(trainX)\n",
    "testPredict = model.predict(testX)\n",
    "\n",
    "# invert predictions\n",
    "trainPredict = scaler.inverse_transform(trainPredict)\n",
    "trainY = scaler.inverse_transform([trainY])\n",
    "testPredict = scaler.inverse_transform(testPredict)\n",
    "testY = scaler.inverse_transform([testY])\n",
    "# calculate root mean squared error\n",
    "trainScore = np.sqrt(mean_squared_error(trainY[0], trainPredict[:,0]))\n",
    "print('Train Score: %.2f RMSE' % (trainScore))\n",
    "testScore = np.sqrt(mean_squared_error(testY[0], testPredict[:,0]))\n",
    "print('Test Score: %.2f RMSE' % (testScore))"
   ]
  },
  {
   "cell_type": "code",
   "execution_count": 10,
   "metadata": {
    "colab": {
     "base_uri": "https://localhost:8080/",
     "height": 430
    },
    "id": "SNKWoD3CW9dJ",
    "outputId": "25a23514-6d40-4003-c18d-0e10d13baafe"
   },
   "outputs": [
    {
     "data": {
      "image/png": "[encoded data removed]",
      "text/plain": [
       "<Figure size 640x480 with 1 Axes>"
      ]
     },
     "metadata": {},
     "output_type": "display_data"
    }
   ],
   "source": [
    "# shift train predictions for plotting\n",
    "trainPredictPlot = np.empty_like(dataset)\n",
    "trainPredictPlot[:, :] = np.nan\n",
    "trainPredictPlot[look_back:len(trainPredict)+look_back, :] = trainPredict\n",
    "# shift test predictions for plotting\n",
    "testPredictPlot = np.empty_like(dataset)\n",
    "testPredictPlot[:, :] = np.nan\n",
    "testPredictPlot[len(trainPredict)+(look_back*2)+1:len(dataset)-1, :] = testPredict\n",
    "# plot baseline and predictions\n",
    "plt.plot(scaler.inverse_transform(dataset))\n",
    "plt.plot(trainPredictPlot)\n",
    "plt.plot(testPredictPlot)\n",
    "plt.show()"
   ]
  },
  {
   "cell_type": "code",
   "execution_count": null,
   "metadata": {},
   "outputs": [],
   "source": []
  }
 ],
 "metadata": {
  "colab": {
   "provenance": []
  },
  "kernelspec": {
   "display_name": "Python 3 (ipykernel)",
   "language": "python",
   "name": "python3"
  },
  "language_info": {
   "codemirror_mode": {
    "name": "ipython",
    "version": 3
   },
   "file_extension": ".py",
   "mimetype": "text/x-python",
   "name": "python",
   "nbconvert_exporter": "python",
   "pygments_lexer": "ipython3",
   "version": "3.10.9"
  }
 },
 "nbformat": 4,
 "nbformat_minor": 1
}
